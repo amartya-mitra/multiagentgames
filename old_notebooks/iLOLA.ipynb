{
  "nbformat": 4,
  "nbformat_minor": 0,
  "metadata": {
    "colab": {
      "name": "iLOLA.ipynb",
      "provenance": [],
      "collapsed_sections": []
    },
    "kernelspec": {
      "name": "python3",
      "display_name": "Python 3"
    },
    "accelerator": "GPU"
  },
  "cells": [
    {
      "cell_type": "code",
      "metadata": {
        "id": "MKmhZw6EOsqz",
        "colab_type": "code",
        "colab": {}
      },
      "source": [
        "from jax import jit, grad, vmap, random, jacrev, jacobian, jacfwd\n",
        "from functools import partial\n",
        "import jax\n",
        "import jax.numpy as jp\n",
        "import jax.scipy as jsp\n",
        "from jax.experimental import stax # neural network library\n",
        "from jax.experimental.stax import GeneralConv, Conv, ConvTranspose, Dense, MaxPool, Relu, Flatten, LogSoftmax, LeakyRelu, Dropout, Tanh, Sigmoid, BatchNorm # neural network layers\n",
        "from jax.nn import softmax, sigmoid\n",
        "from jax.nn.initializers import zeros\n",
        "import matplotlib.pyplot as plt # visualization\n",
        "import numpy as np\n",
        "from jax.experimental import optimizers\n",
        "from jax.tree_util import tree_multimap  # Element-wise manipulation of collections of numpy arrays\n",
        "from jax.ops import index, index_add, index_update\n",
        "import os, time"
      ],
      "execution_count": 0,
      "outputs": []
    },
    {
      "cell_type": "code",
      "metadata": {
        "id": "bKLkEyZZO1GU",
        "colab_type": "code",
        "colab": {}
      },
      "source": [
        "def ipd(gamma=0.96):\n",
        "  dims = [5, 5]\n",
        "  payout_mat_1 = jp.array([[-1,-3],[0,-2]])\n",
        "  payout_mat_2 = payout_mat_1.T\n",
        "  def Ls(th):\n",
        "    p_1_0 = sigmoid(th[0][0:1])\n",
        "    p_2_0 = sigmoid(th[1][0:1])\n",
        "    p = jp.stack([p_1_0*p_2_0, p_1_0*(1-p_2_0), (1-p_1_0)*p_2_0, (1-p_1_0)*(1-p_2_0)], axis=1)\n",
        "    # print('p',p,p.shape)\n",
        "    p_1 = jp.reshape(sigmoid(th[0][1:5]), (4, 1))\n",
        "    p_2 = jp.reshape(sigmoid(th[1][1:5]), (4, 1))\n",
        "    P = jp.stack([p_1*p_2, p_1*(1-p_2), (1-p_1)*p_2, (1-p_1)*(1-p_2)], axis=1).reshape((4,4))\n",
        "    # print('P',P,P.shape)\n",
        "    # print('inv', jsp.linalg.inv(jp.eye(4)-gamma*P), jsp.linalg.inv(jp.eye(4)-gamma*P).shape)\n",
        "    M = -jp.dot(p, jsp.linalg.inv(jp.eye(4)-gamma*P))\n",
        "    # print('M',M)\n",
        "    L_1 = jp.dot(M, jp.reshape(payout_mat_1, (4, 1)))\n",
        "    L_2 = jp.dot(M, jp.reshape(payout_mat_2, (4, 1)))\n",
        "    # print('L_1',L_1.reshape(-1)[0])\n",
        "    # print('L_2',L_2.reshape(-1)[0])\n",
        "    return jp.array([L_1.reshape(-1)[0], L_2.reshape(-1)[0]])\n",
        "  return dims, Ls\n"
      ],
      "execution_count": 0,
      "outputs": []
    },
    {
      "cell_type": "code",
      "metadata": {
        "id": "LbpWmyphPB6Y",
        "colab_type": "code",
        "outputId": "bc4c39d5-bcac-41dc-f4df-9dc5fef6e12d",
        "colab": {
          "base_uri": "https://localhost:8080/",
          "height": 531
        }
      },
      "source": [
        "'''Iterated Prisoner's Dilemma - SOS/LOLA vs LA/CO/SGA/EG/CGD/LSS/NAIVE'''\n",
        "\n",
        "def init_th(dims, std, rng):\n",
        "  th = []\n",
        "  init=random.normal(rng, shape=(jp.sum(jp.array(dims)),))\n",
        "  if std > 0:\n",
        "    init*=std\n",
        "  for i in range(len(dims)):\n",
        "    th.append(init[:dims[i]])\n",
        "    init=init[dims[i]:]\n",
        "  return jp.array(th)\n",
        "\n",
        "\n",
        "def ilola(Ls, th, momentum, hp):\n",
        "    grad_L = jacobian(Ls)(th)  # n x n x d\n",
        "    xi = jp.einsum('iij->ij', grad_L)\n",
        "    full_hessian = jax.hessian(Ls)(th)\n",
        "    off_diag_hessian = full_hessian\n",
        "    proxy_momentum = -hp['alpha'] * xi + hp['gamma'] * momentum\n",
        "    for i in range(th.shape[0]):\n",
        "        off_diag_hessian = index_update(off_diag_hessian, index[i, i, :, :, :], 0)\n",
        "    second_term = jp.einsum('iim->im', jp.einsum('ijklm,jk->ilm', off_diag_hessian, proxy_momentum))\n",
        "    denom = 1 / (xi + 1e-10)\n",
        "    diag_hessian = jp.einsum('ij,kl->ijkl', proxy_momentum, denom)\n",
        "    for i in range(th.shape[0]):\n",
        "        diag_hessian = index_update(diag_hessian, index[i, :, i, :], 0)\n",
        "    third_term = jp.einsum('iij->ij', jp.einsum('ijkl,mij->mkl', diag_hessian, grad_L))\n",
        "    grads = xi + second_term + third_term\n",
        "    step = hp['eta'] * grads\n",
        "    return th - step.reshape(th.shape), Ls(th), hp['gamma'] * momentum - step\n",
        "\n",
        "\n",
        "def main():\n",
        "    rng = jax.random.PRNGKey(1234)\n",
        "\n",
        "    gamma = 0.96\n",
        "    dims, Ls = ipd(gamma)\n",
        "    num_runs = 100\n",
        "    num_epochs = 200\n",
        "    std = 1\n",
        "    algo_list = ['ILOLA']\n",
        "    theta = vmap(partial(init_th, dims, std))(jax.random.split(rng, num_runs))\n",
        "    hp = {'eta': 0.001, 'alpha': 10.0, 'a': 0.5, 'b': 0.5, 'lambda':1.0, 'gamma': 0.9}\n",
        "\n",
        "    t1 = time.time()\n",
        "    plt.figure(figsize=(15, 8))\n",
        "    for algo in [s.lower() for s in algo_list]:\n",
        "        losses_out = np.zeros((num_runs, num_epochs))\n",
        "        update_fn = jit(vmap(partial(ilola, Ls), in_axes=(0, 0, None), out_axes=(0, 0, 0)))\n",
        "        th, momentum = theta, jp.zeros_like(theta)\n",
        "        for k in range(num_epochs):\n",
        "            th, losses, momentum = update_fn(th, momentum, hp)\n",
        "            # print(momentum[0])\n",
        "            losses_out[:, k] = (1-gamma)*losses[:, 0]\n",
        "        mean = np.mean(losses_out, axis=0)\n",
        "        dev = np.std(losses_out, axis=0)\n",
        "        plt.plot(np.arange(num_epochs), mean)\n",
        "        plt.fill_between(np.arange(num_epochs), mean-dev, mean+dev, alpha=0.08)\n",
        "\n",
        "    plt.title('IPD Results')\n",
        "    plt.xlabel('Learning Step')\n",
        "    plt.ylabel('Average Loss')\n",
        "    plt.legend(algo_list, loc='upper left', frameon=True, framealpha=1, ncol=3)\n",
        "    print('Jax time:', time.time()-t1)\n",
        "    plt.show()\n",
        "\n",
        "if __name__ == \"__main__\":\n",
        "    main()"
      ],
      "execution_count": 0,
      "outputs": [
        {
          "output_type": "stream",
          "text": [
            "Jax time: 3.636260747909546\n"
          ],
          "name": "stdout"
        },
        {
          "output_type": "display_data",
          "data": {
            "image/png": "[encoded data removed]",
            "text/plain": [
              "<Figure size 1080x576 with 1 Axes>"
            ]
          },
          "metadata": {
            "tags": [],
            "needs_background": "light"
          }
        }
      ]
    }
  ]
}